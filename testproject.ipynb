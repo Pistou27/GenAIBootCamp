{
 "cells": [
  {
   "cell_type": "markdown",
   "id": "00d9b008",
   "metadata": {},
   "source": [
    "yooo\n"
   ]
  },
  {
   "cell_type": "code",
   "execution_count": 3,
   "id": "d0b48fa5",
   "metadata": {},
   "outputs": [
    {
     "name": "stdout",
     "output_type": "stream",
     "text": [
      "tito\n"
     ]
    }
   ],
   "source": [
    "print('tito')"
   ]
  }
 ],
 "metadata": {
  "kernelspec": {
   "display_name": "Python 3",
   "language": "python",
   "name": "python3"
  },
  "language_info": {
   "codemirror_mode": {
    "name": "ipython",
    "version": 3
   },
   "file_extension": ".py",
   "mimetype": "text/x-python",
   "name": "python",
   "nbconvert_exporter": "python",
   "pygments_lexer": "ipython3",
   "version": "3.9.13"
  }
 },
 "nbformat": 4,
 "nbformat_minor": 5
}
