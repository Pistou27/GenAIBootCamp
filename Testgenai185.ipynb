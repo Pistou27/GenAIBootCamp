{
  "nbformat": 4,
  "nbformat_minor": 0,
  "metadata": {
    "colab": {
      "provenance": []
    },
    "kernelspec": {
      "name": "python3",
      "display_name": "Python 3"
    },
    "language_info": {
      "name": "python"
    }
  },
  "cells": [
    {
      "cell_type": "markdown",
      "source": [
        "Notebook exo day 1\n"
      ],
      "metadata": {
        "id": "LnJP_vpqKM2U"
      }
    },
    {
      "cell_type": "markdown",
      "source": [
        "yooo\n"
      ],
      "metadata": {
        "id": "V7lqrKkkL6NT"
      }
    },
    {
      "cell_type": "code",
      "execution_count": 3,
      "metadata": {
        "colab": {
          "base_uri": "https://localhost:8080/"
        },
        "id": "gTBJndrqJHQh",
        "outputId": "54b32d7b-1914-4323-f689-04e7be90c158"
      },
      "outputs": [
        {
          "output_type": "stream",
          "name": "stdout",
          "text": [
            "0\n",
            "1\n",
            "2\n",
            "3\n"
          ]
        }
      ],
      "source": [
        "for i in range(4):\n",
        "    print(i)"
      ]
    }
  ]
}