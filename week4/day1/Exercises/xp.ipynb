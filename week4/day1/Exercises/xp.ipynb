{
 "cells": [
  {
   "cell_type": "code",
   "execution_count": 1,
   "id": "0b3b552b",
   "metadata": {},
   "outputs": [],
   "source": [
    "import numpy as np"
   ]
  },
  {
   "cell_type": "markdown",
   "id": "29897da8",
   "metadata": {},
   "source": [
    "Exercice 1 : Create a 1D NumPy array containing numbers from 0 to 9."
   ]
  },
  {
   "cell_type": "code",
   "execution_count": 2,
   "id": "b3e68dd9",
   "metadata": {},
   "outputs": [
    {
     "name": "stdout",
     "output_type": "stream",
     "text": [
      "[0 1 2 3 4 5 6 7 8 9]\n"
     ]
    }
   ],
   "source": [
    "np_array = np.arange(10)\n",
    "print(np_array)"
   ]
  },
  {
   "cell_type": "markdown",
   "id": "e14991e3",
   "metadata": {},
   "source": [
    "Exercice 2"
   ]
  },
  {
   "cell_type": "code",
   "execution_count": null,
   "id": "9879009e",
   "metadata": {},
   "outputs": [
    {
     "name": "stdout",
     "output_type": "stream",
     "text": [
      "[3 2 0 1 2]\n"
     ]
    }
   ],
   "source": [
    "list_number = [3.14, 2.17, 0, 1, 2] \n",
    "np_number_int = np.array(list_number, dtype=int)\n",
    "print(np_number_int)"
   ]
  },
  {
   "cell_type": "markdown",
   "id": "3568dc31",
   "metadata": {},
   "source": [
    "Exercice 3"
   ]
  },
  {
   "cell_type": "code",
   "execution_count": 5,
   "id": "8cf3bb14",
   "metadata": {},
   "outputs": [
    {
     "name": "stdout",
     "output_type": "stream",
     "text": [
      "[[1 2 3]\n",
      " [4 5 6]\n",
      " [7 8 9]]\n"
     ]
    }
   ],
   "source": [
    "np_shape_3x3 = np.arange(1, 10).reshape(3,3)\n",
    "print(np_shape_3x3)"
   ]
  },
  {
   "cell_type": "markdown",
   "id": "0e120704",
   "metadata": {},
   "source": [
    "Exercice 4"
   ]
  },
  {
   "cell_type": "code",
   "execution_count": 12,
   "id": "ec5db643",
   "metadata": {},
   "outputs": [
    {
     "name": "stdout",
     "output_type": "stream",
     "text": [
      "[[0.78 0.07 0.15 0.11 0.71]\n",
      " [0.93 0.99 0.48 0.36 0.56]\n",
      " [0.99 0.64 0.82 0.44 0.8 ]\n",
      " [0.82 0.19 0.21 0.87 0.41]]\n"
     ]
    }
   ],
   "source": [
    "np_random = np.round(np.random.rand(4, 5), 2)\n",
    "print(np_random)"
   ]
  },
  {
   "cell_type": "markdown",
   "id": "615e83aa",
   "metadata": {},
   "source": [
    "Exercice 5"
   ]
  },
  {
   "cell_type": "code",
   "execution_count": 13,
   "id": "27b8ef3e",
   "metadata": {},
   "outputs": [
    {
     "name": "stdout",
     "output_type": "stream",
     "text": [
      "[20 21 22 23 24]\n"
     ]
    }
   ],
   "source": [
    "array = np.array([\n",
    "    [21,22,23,22,22],\n",
    "    [20, 21, 22, 23, 24],\n",
    "    [21,22,23,22,22]\n",
    "    ])\n",
    "\n",
    "second_row = array[1]\n",
    "print(second_row)"
   ]
  },
  {
   "cell_type": "markdown",
   "id": "63af1ff4",
   "metadata": {},
   "source": [
    "Exercice 6"
   ]
  },
  {
   "cell_type": "code",
   "execution_count": 14,
   "id": "25c76df0",
   "metadata": {},
   "outputs": [
    {
     "name": "stdout",
     "output_type": "stream",
     "text": [
      "[9 8 7 6 5 4 3 2 1 0]\n"
     ]
    }
   ],
   "source": [
    "#De l'exercice 1\n",
    "np_array_reverse = np_array[::-1]\n",
    "print(np_array_reverse)"
   ]
  },
  {
   "cell_type": "markdown",
   "id": "886380a7",
   "metadata": {},
   "source": [
    "Exercice 7"
   ]
  },
  {
   "cell_type": "code",
   "execution_count": null,
   "id": "45d96db6",
   "metadata": {},
   "outputs": [
    {
     "name": "stdout",
     "output_type": "stream",
     "text": [
      "[[1. 0. 0. 0.]\n",
      " [0. 1. 0. 0.]\n",
      " [0. 0. 1. 0.]\n",
      " [0. 0. 0. 1.]]\n"
     ]
    }
   ],
   "source": [
    "np_identity = np.eye(4)\n",
    "print(np_identity)"
   ]
  },
  {
   "cell_type": "markdown",
   "id": "f5cf42e1",
   "metadata": {},
   "source": [
    "Exercice 8"
   ]
  },
  {
   "cell_type": "code",
   "execution_count": 16,
   "id": "0ec6d87a",
   "metadata": {},
   "outputs": [
    {
     "name": "stdout",
     "output_type": "stream",
     "text": [
      "Sum: 45, Average: 4.5\n"
     ]
    }
   ],
   "source": [
    "#A partir de l'exercice 6\n",
    "print(f\"Sum: {np_array_reverse.sum()}, Average: {np_array_reverse.mean()}\")"
   ]
  },
  {
   "cell_type": "markdown",
   "id": "b1002b83",
   "metadata": {},
   "source": [
    "Exercice 9"
   ]
  },
  {
   "cell_type": "code",
   "execution_count": 18,
   "id": "95e3d00d",
   "metadata": {},
   "outputs": [
    {
     "name": "stdout",
     "output_type": "stream",
     "text": [
      "[[ 1  2  3  4  5]\n",
      " [ 6  7  8  9 10]\n",
      " [11 12 13 14 15]\n",
      " [16 17 18 19 20]]\n"
     ]
    }
   ],
   "source": [
    "np_shape_4x5 = np.arange(1, 21).reshape(4,5)\n",
    "print(np_shape_4x5)"
   ]
  },
  {
   "cell_type": "markdown",
   "id": "f4eaf16a",
   "metadata": {},
   "source": [
    "Exercice 10"
   ]
  },
  {
   "cell_type": "code",
   "execution_count": 21,
   "id": "3d3679f8",
   "metadata": {},
   "outputs": [
    {
     "name": "stdout",
     "output_type": "stream",
     "text": [
      "[1 3 5 7 9]\n",
      "[1 3 5 7 9]\n"
     ]
    }
   ],
   "source": [
    "np_odd = np_array[1::2]\n",
    "print(np_odd)\n",
    "# Par contre on va éviter le dessus en faisant une vrai vérification\n",
    "np_odd = np_array[np_array % 2 == 1]\n",
    "print(np_odd)\n"
   ]
  }
 ],
 "metadata": {
  "kernelspec": {
   "display_name": "Python 3",
   "language": "python",
   "name": "python3"
  },
  "language_info": {
   "codemirror_mode": {
    "name": "ipython",
    "version": 3
   },
   "file_extension": ".py",
   "mimetype": "text/x-python",
   "name": "python",
   "nbconvert_exporter": "python",
   "pygments_lexer": "ipython3",
   "version": "3.12.10"
  }
 },
 "nbformat": 4,
 "nbformat_minor": 5
}
