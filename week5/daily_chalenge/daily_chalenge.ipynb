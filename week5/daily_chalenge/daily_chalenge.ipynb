{
 "cells": [
  {
   "cell_type": "markdown",
   "id": "85ffff1f",
   "metadata": {},
   "source": [
    "\n",
    "    Write a brief summary explaining the basics of Machine Learning and why it is important for data analysts.\n",
    "    \n",
    "    Discuss the applications of Machine Learning across different industries, providing at least three specific examples.\n",
    "\n",
    "    Create a section in your document that clearly differentiates between Supervised, Unsupervised, and Reinforcement Learning.\n",
    "\n",
    "    For each type, provide a brief definition and an example scenario where that type of machine learning is typically applied.\n",
    "\n",
    "    Describe the process of developing a machine learning model. Focus on three main stages: Feature Selection, Model Selection, and Model Evaluation.\n"
   ]
  },
  {
   "cell_type": "markdown",
   "id": "c924dee1",
   "metadata": {},
   "source": [
    "***********************************\n",
    "L'apprentissage automatique (ou machine learning en anglais) est une méthode par laquelle les ordinateurs apprennent à partir de données afin de prendre des décisions ou faire des prédictions, sans être explicitement programmés pour chaque tâche spécifique.\n"
   ]
  },
  {
   "cell_type": "markdown",
   "id": "724c0925",
   "metadata": {},
   "source": [
    "*************************************\n",
    "Le machine learning permet de personnaliser l’apprentissage pour chaque élève. Par exemple pour détecter les élèves en difficulté à partir de leurs résultats ou comportements sur les plateformes d'e-learning.\n",
    "\n",
    "Dans l’agriculture, le machine learning aide à optimiser les rendements. Par exemple pour gérer l’irrigation ou suivre la santé du bétail grâce à des capteurs et des données en temps réel.\n",
    "\n",
    "\n",
    "Les services comme Netflix ou YouTube utilisent le machine learning pour la recommandation des films et séries."
   ]
  },
  {
   "cell_type": "markdown",
   "id": "b8f8c5d2",
   "metadata": {},
   "source": [
    "*****************************\n",
    "Apprentissage supervisé\n",
    "Le modèle apprend à partir de données labelisés. L’objectif est de prédire un résultat connu à partir de nouvelles données.\n",
    "\n",
    "Apprentissage non supervisé\n",
    "Le modèle apprend à partir de données non labelisés. Il cherche à détecter des structures ou des regroupements (clustering) dans les données.\n",
    "\n",
    "Apprentissage par renforcement\n",
    "Un modèle qui apprend à prendre des décisions en interagissant avec un environnement. Il reçoit des récompenses ou des pénalités selon ses actions. "
   ]
  },
  {
   "cell_type": "markdown",
   "id": "509cd8c4",
   "metadata": {},
   "source": [
    "********************************\n",
    "Supervisé\n",
    "Reconnaissance d’images : déterminer si une photo contient un chat ou non.\n",
    "\n",
    "Non supervisé\n",
    "Analyse de comportements clients pour détecter des segments de consommateurs.\n",
    "\n",
    "Par renforcement\n",
    "Un robot qui apprend à naviguer dans une pièce sans heurter d’obstacles."
   ]
  },
  {
   "cell_type": "markdown",
   "id": "6762c307",
   "metadata": {},
   "source": [
    "*********************************************\n",
    "Feature Selection\n",
    "Il s’agit de choisir les variables ou attributs les plus pertinents dans les données qui aideront le modèle à faire de bonnes prédictions. Une bonne sélection améliore la performance et réduit la complexité.\n",
    "\n",
    "Model Selection\n",
    "On teste plusieurs algorithmes (comme la régression, les arbres de décision, les réseaux de neurones, etc...) pour trouver celui qui convient le mieux au problème et aux données. Ce choix dépend aussi des contraintes (temps, ressources, interprétabilité).\n",
    "\n",
    "Model Evaluation\n",
    "Une fois le modèle entraîné, on mesure sa performance sur des données nouvelles, souvent avec des métriques comme la précision, le rappel, ou la F-mesure. Cela permet de vérifier si le modèle généralise bien."
   ]
  }
 ],
 "metadata": {
  "language_info": {
   "name": "python"
  }
 },
 "nbformat": 4,
 "nbformat_minor": 5
}
