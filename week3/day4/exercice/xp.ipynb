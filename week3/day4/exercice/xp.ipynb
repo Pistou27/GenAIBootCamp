{
 "cells": [
  {
   "cell_type": "code",
   "execution_count": null,
   "id": "eea3a2db",
   "metadata": {},
   "outputs": [],
   "source": [
    "import matplotlib.pyplot as plt\n",
    "import pandas as pd\n",
    "import seaborn as sns"
   ]
  },
  {
   "cell_type": "markdown",
   "id": "0aa09a25",
   "metadata": {},
   "source": [
    "Exercise 1: Understanding Data Visualization\n",
    "\n",
    "    Task: Explain why data visualization is important in data analysis.\n",
    "\n",
    "    Response : Data visualization is crucial in data analysis because it helps transform complex datasets into visual formats that are easier to understand and interpret.\n",
    "\n",
    "    Task: Describe the purpose of a line graph in data visualization.\n",
    "\n",
    "    A line graph is used to show how data changes over time or to display trends. Track changes over intervals, compare multiple data sets, identify trends and fluctuations and highilght relationships beetween variables.\n"
   ]
  },
  {
   "cell_type": "markdown",
   "id": "f34fd949",
   "metadata": {},
   "source": [
    "Exercise 2: Creating a Line Plot for Temperature Variation\n",
    "\n",
    "    Objective: Create a simple line plot using Matplotlib that represents temperature variations over a week.\n",
    "    Tasks:\n",
    "    Use a list of temperature values for each day of the week (e.g., [72, 74, 76, 80, 82, 78, 75]).\n",
    "    Label the x-axis as “Day” and the y-axis as “Temperature (°F)”.\n",
    "    Add a title to the plot.\n",
    "    Display the plot."
   ]
  },
  {
   "cell_type": "code",
   "execution_count": null,
   "id": "83776898",
   "metadata": {},
   "outputs": [],
   "source": [
    "x = [\"Monday\", \"Tuesday\", \"Wednesday\", \"Thursday\", \"Friday\", \"Saturday\", \"Sunday\"]\n",
    "y = [72, 74, 76, 80, 82, 78, 75]\n",
    "plt.plot(x, y, color='green', linestyle='--', marker='o')\n",
    "plt.xlabel(\"Day\")\n",
    "plt.ylabel(\"Temperature (°F)\")\n",
    "plt.title(\"Temperature last week\")\n",
    "plt.grid()\n",
    "plt.show()"
   ]
  },
  {
   "cell_type": "markdown",
   "id": "179bbe87",
   "metadata": {},
   "source": [
    "Exercise 3: Visualizing Monthly Sales with a Bar Chart\n",
    "\n",
    "    Objective: Generate a bar chart using Matplotlib to visualize monthly sales data for a retail store.\n",
    "    Tasks:\n",
    "    Create a list of sales values for each month (e.g., [5000, 5500, 6200, 7000, 7500]).\n",
    "    Label the x-axis as “Month” and the y-axis as “Sales Amount ($)”.\n",
    "    Add a title to the bar chart.\n",
    "    Display the plot."
   ]
  },
  {
   "cell_type": "code",
   "execution_count": null,
   "id": "fd42b96d",
   "metadata": {},
   "outputs": [],
   "source": [
    "sales = [5000, 5500, 6200, 7000, 7500]\n",
    "months = [\"January\", \"February\", \"March\", \"April\", \"May\"]\n",
    "plt.bar(months, sales)\n",
    "plt.xlabel(\"Month\")\n",
    "plt.ylabel(\"Sales Amount ($)\")\n",
    "plt.title(\"Monthly Sales for Retail Store\")\n",
    "plt.show()"
   ]
  },
  {
   "cell_type": "markdown",
   "id": "73e0fb22",
   "metadata": {},
   "source": [
    "Exercise 4: Visualizing the Distribution of CGPA\n",
    "\n",
    "    Objective: Create a histogram to visualize the distribution of students’ CGPA.\n",
    "    Dataset Overview: Assume the CGPA data is categorized into ranges and loaded in a DataFrame named df.\n",
    "    Tasks:\n",
    "    Import necessary libraries.\n",
    "    Use Seaborn’s histplot to create a histogram of the CGPA categories.\n",
    "    Customize the histogram with a specific color and add a title.\n",
    "    Display the plot.\n"
   ]
  },
  {
   "cell_type": "code",
   "execution_count": null,
   "id": "f2753e1e",
   "metadata": {},
   "outputs": [],
   "source": [
    "#df = pd.DataFrame({'CGPA': [3.1, 3.5, 2.8, 3.9, 3.0, 3.3, 3.7, 2.9, 3.6, 3.8]})\n",
    "df = pd.read_csv(r'data_center\\Student_Mental_health.csv')\n",
    "sns.histplot(data=df, x='What is your CGPA?', color='skyblue', bins=10)\n",
    "plt.gca().invert_xaxis()\n",
    "plt.title(\"Distribution of Students' CGPA\")\n",
    "plt.xlabel(\"CGPA\")\n",
    "plt.ylabel(\"Nombre d'étudiant\")\n",
    "plt.show()"
   ]
  },
  {
   "cell_type": "markdown",
   "id": "60c996dc",
   "metadata": {},
   "source": [
    "Exercise 5: Comparing Anxiety Levels Across Different Genders\n",
    "\n",
    "    Objective: Use a bar plot to compare the proportion of students experiencing anxiety across different genders.\n",
    "    Dataset Overview: The dataset includes columns: ‘Do you have Anxiety?’ and ‘Choose your gender’.\n",
    "    Tasks:\n",
    "    Import necessary libraries.\n",
    "    Use Seaborn to create a bar plot comparing anxiety levels across genders from the dataset df.\n",
    "    Customize the plot with an appropriate color palette and add a title.\n",
    "    Display the plot."
   ]
  },
  {
   "cell_type": "code",
   "execution_count": 39,
   "id": "ffc496df",
   "metadata": {},
   "outputs": [
    {
     "data": {
      "image/png": "[encoded data removed]",
      "text/plain": [
       "<Figure size 640x480 with 1 Axes>"
      ]
     },
     "metadata": {},
     "output_type": "display_data"
    }
   ],
   "source": [
    "# Je garde que ce que j'ai besoin\n",
    "df_clean = df.dropna(subset=['Do you have Anxiety?', 'Choose your gender'])\n",
    "\n",
    "# On convertit en pourcentage d'étudiants qui ont répondu \"Yes\"\n",
    "anxiety_proportions = (\n",
    "    df_clean[df_clean['Do you have Anxiety?'] == 'Yes'].groupby('Choose your gender').size() / df_clean.groupby('Choose your gender').size() * 100\n",
    ").reset_index(name='Proportion')\n",
    "\n",
    "sns.barplot(data=anxiety_proportions, x='Choose your gender', y='Proportion', hue='Choose your gender', palette='Set2', legend=False)\n",
    "\n",
    "plt.title(\"Proportion of anxiety students\")\n",
    "plt.ylabel(\"Proportion (%)\")\n",
    "plt.xlabel(\"Genre\")\n",
    "\n",
    "plt.show()\n"
   ]
  },
  {
   "cell_type": "markdown",
   "id": "5c8a251e",
   "metadata": {},
   "source": [
    "Exercise 6: Exploring the Relationship Between Age and Panic Attacks\n",
    "\n",
    "    Objective: Create a scatter plot to explore the relationship between students’ age and the occurrence of panic attacks.\n",
    "    Dataset Overview: The dataset includes columns: ‘Age’ and ‘Do you have Panic Attacks?’.\n",
    "    Tasks:\n",
    "    Import necessary libraries.\n",
    "    Convert panic attack responses to numeric values (e.g., Yes=1, No=0).\n",
    "    Use Seaborn’s scatterplot to create a scatter plot with ‘Age’ on the x-axis and numeric panic attack responses on the y-axis.\n",
    "    Customize the plot to improve readability by adding labels, a title, and adjusting point styles.\n",
    "    Display the plot.\n"
   ]
  },
  {
   "cell_type": "code",
   "execution_count": 66,
   "id": "6b3f04a9",
   "metadata": {},
   "outputs": [
    {
     "name": "stderr",
     "output_type": "stream",
     "text": [
      "C:\\Users\\alexa\\AppData\\Local\\Temp\\ipykernel_3608\\2045232730.py:6: SettingWithCopyWarning: \n",
      "A value is trying to be set on a copy of a slice from a DataFrame.\n",
      "Try using .loc[row_indexer,col_indexer] = value instead\n",
      "\n",
      "See the caveats in the documentation: https://pandas.pydata.org/pandas-docs/stable/user_guide/indexing.html#returning-a-view-versus-a-copy\n",
      "  df_clean['Panic'] = df_clean['Do you have Panic attack?'].map({'No': 0, 'Yes': 1})\n",
      "C:\\Users\\alexa\\AppData\\Local\\Temp\\ipykernel_3608\\2045232730.py:8: SettingWithCopyWarning: \n",
      "A value is trying to be set on a copy of a slice from a DataFrame.\n",
      "Try using .loc[row_indexer,col_indexer] = value instead\n",
      "\n",
      "See the caveats in the documentation: https://pandas.pydata.org/pandas-docs/stable/user_guide/indexing.html#returning-a-view-versus-a-copy\n",
      "  df_clean['Panic_label'] = df_clean['Panic'].map({0: 'No', 1: 'Yes'})\n"
     ]
    },
    {
     "data": {
      "image/png": "[encoded data removed]",
      "text/plain": [
       "<Figure size 640x480 with 1 Axes>"
      ]
     },
     "metadata": {},
     "output_type": "display_data"
    }
   ],
   "source": [
    "# print(df.info())\n",
    "# print(df.head())\n",
    "\n",
    "df_clean = df.dropna(subset=['Age', 'Do you have Panic attack?'])\n",
    "\n",
    "df_clean['Panic'] = df_clean['Do you have Panic attack?'].map({'No': 0, 'Yes': 1})\n",
    "\n",
    "df_clean['Panic_label'] = df_clean['Panic'].map({0: 'No', 1: 'Yes'})\n",
    "\n",
    "sns.histplot(data=df_clean, x='Age', hue='Panic_label', multiple='stack', bins=20)\n",
    "plt.title('Age Distribution by Panic Attack Status')\n",
    "plt.xlabel('Age')\n",
    "plt.ylabel('Number of respondents')\n",
    "plt.show()"
   ]
  }
 ],
 "metadata": {
  "kernelspec": {
   "display_name": "Python 3",
   "language": "python",
   "name": "python3"
  },
  "language_info": {
   "codemirror_mode": {
    "name": "ipython",
    "version": 3
   },
   "file_extension": ".py",
   "mimetype": "text/x-python",
   "name": "python",
   "nbconvert_exporter": "python",
   "pygments_lexer": "ipython3",
   "version": "3.12.10"
  }
 },
 "nbformat": 4,
 "nbformat_minor": 5
}
