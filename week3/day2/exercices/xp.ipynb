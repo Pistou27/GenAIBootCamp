{
 "cells": [
  {
   "cell_type": "markdown",
   "id": "f867fbb5",
   "metadata": {},
   "source": [
    "Exercise 1: Identifying Data Types\n",
    "\n",
    "\n",
    "- A company’s financial reports stored in an Excel file.    -> Structured Data (Table Type)\n",
    "- Photographs uploaded to a social media platform.          -> Unstructured Data (Images)\n",
    "- A collection of news articles on a website.               -> Unstructured Data (Strings)\n",
    "- Inventory data in a relational database.                  -> Structtured Data if inventory have ids\n",
    "- Recorded interviews from a market research study.         -> Unstructured Data (Retranscriptions)"
   ]
  },
  {
   "cell_type": "markdown",
   "id": "f72dae51",
   "metadata": {},
   "source": [
    "Exercise 2: Transformation Exercise\n",
    "\n",
    "For each of the following unstructured data sources, propose a method to convert it into structured data. Explain your reasoning.\n",
    "\n",
    "- A series of blog posts about travel experiences:\n",
    "For each blog, search destination and convert into geolocalisation format, convert experience with ranking 1-5 for example\n",
    "\n",
    "Audio recordings of customer service calls:\n",
    "Compile each recordings for each services and class complains into a predefine list (with the last one : other)\n",
    "\n",
    "Handwritten notes from a brainstorming session:\n",
    "Class each idea into class (good, not good or impossible), the price of each class and the time to accomplish.\n",
    "\n",
    "A video tutorial on cooking:\n",
    "Selection of food, quantities, time for each step.\n"
   ]
  },
  {
   "cell_type": "markdown",
   "id": "63e8a9f7",
   "metadata": {},
   "source": [
    "Exercise 3 : Import a file from Kaggle\n",
    "\n",
    "    Import the train dataset. Use the train.csv file.\n",
    "    Print the first few rows of the DataFrame.\n"
   ]
  },
  {
   "cell_type": "code",
   "execution_count": null,
   "id": "0383de03",
   "metadata": {},
   "outputs": [],
   "source": [
    "import pandas as pd\n",
    "#Exercice 3 lié à Github et non à kaggle\n",
    "\n",
    "train_data = pd.read_csv(r'data_center\\train.csv')\n",
    "\n",
    "print(train_data.head())"
   ]
  },
  {
   "cell_type": "markdown",
   "id": "13c9dfdc",
   "metadata": {},
   "source": [
    "Exercise 4: Importing a CSV File\n",
    "\n",
    "Use the Iris Dataset CSV.\n",
    "\n",
    "    Download the Iris dataset CSV file and place it in the same directory as your Jupyter Notebook.\n",
    "    Import the CSV file using Pandas.\n",
    "    Display the first five rows of the dataset.\n"
   ]
  },
  {
   "cell_type": "code",
   "execution_count": null,
   "id": "102c20a5",
   "metadata": {},
   "outputs": [],
   "source": [
    "#Mes données sont regroupés dans un dossier\n",
    "iris_data = pd.read_csv(r'data_center\\Iris_dataset.csv')\n",
    "\n",
    "print(iris_data.head())"
   ]
  },
  {
   "cell_type": "markdown",
   "id": "5d20261e",
   "metadata": {},
   "source": [
    "Exercise 5 : Export a dataframe to excel format and JSON format.\n",
    "\n",
    "    Create a simple dataframe.\n",
    "    Export the dataframe to an excel file.\n",
    "    Export the dataframe to a JSON file.\n"
   ]
  },
  {
   "cell_type": "code",
   "execution_count": null,
   "id": "ba238c13",
   "metadata": {},
   "outputs": [],
   "source": [
    "import os\n",
    "df = pd.DataFrame({\n",
    "    'Column1': [1, 2, 3, 4, 5],\n",
    "    'Column2': ['A', 'B', 'C', 'D', 'E'],\n",
    "    'Column3': [True, False, True, False, True]\n",
    "})\n",
    "\n",
    "# Dossier de sortie\n",
    "output_dir = '.\\output_files'\n",
    "os.makedirs(output_dir, exist_ok=True)\n",
    "\n",
    "excel_path = os.path.join(output_dir, 'excel_file.xlsx')\n",
    "json_path = os.path.join(output_dir, 'json_file.json')\n",
    "\n",
    "df.to_excel(excel_path, index=False)\n",
    "df.to_json(json_path, orient='records', indent=2)"
   ]
  },
  {
   "cell_type": "markdown",
   "id": "a31459d3",
   "metadata": {},
   "source": [
    "Exercise 6: Reading JSON Data\n",
    "\n",
    "Use a sample JSON dataset\n",
    "\n",
    "    Import the JSON data from the provided URL.\n",
    "    Use Pandas to read the JSON data.\n",
    "    Display the first five entries of the data."
   ]
  },
  {
   "cell_type": "code",
   "execution_count": null,
   "id": "88cc1524",
   "metadata": {},
   "outputs": [],
   "source": [
    "json_data = pd.read_json(r'data_center\\posts.json')\n",
    "\n",
    "print(json_data.head())"
   ]
  }
 ],
 "metadata": {
  "kernelspec": {
   "display_name": "Python 3",
   "language": "python",
   "name": "python3"
  },
  "language_info": {
   "codemirror_mode": {
    "name": "ipython",
    "version": 3
   },
   "file_extension": ".py",
   "mimetype": "text/x-python",
   "name": "python",
   "nbconvert_exporter": "python",
   "pygments_lexer": "ipython3",
   "version": "3.9.13"
  }
 },
 "nbformat": 4,
 "nbformat_minor": 5
}
