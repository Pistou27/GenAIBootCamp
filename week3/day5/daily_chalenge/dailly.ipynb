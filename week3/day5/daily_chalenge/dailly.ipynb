{
 "cells": [
  {
   "cell_type": "code",
   "execution_count": null,
   "id": "f414a71f",
   "metadata": {},
   "outputs": [],
   "source": [
    "import matplotlib.pyplot as plt\n",
    "import pandas as pd\n",
    "import seaborn as sns\n",
    "import numpy as np\n",
    "import ipywidgets as widgets\n",
    "df = pd.read_excel(r'data_center\\US_Superstore_data.xls')\n",
    "pd.set_option('display.max_columns', None)\n",
    "#print(df.info())\n",
    "#print(df.describe())\n",
    "df.head()"
   ]
  },
  {
   "cell_type": "code",
   "execution_count": null,
   "id": "d2a96833",
   "metadata": {},
   "outputs": [],
   "source": [
    "list_product = df['Category'].unique()\n",
    "print(list_product)\n",
    "list_product_category = {'Furniture': 0, 'Office Supplies': 1, 'Technology': 2}\n",
    "list_state = df['State'].unique()\n",
    "print(list_state)\n",
    "list_sub_category = df['Sub-Category'].unique()\n",
    "print(list_sub_category)\n",
    "#df['Category'] = df['Category'].map(list_product_category)"
   ]
  },
  {
   "cell_type": "code",
   "execution_count": null,
   "id": "d9cde8bd",
   "metadata": {},
   "outputs": [],
   "source": [
    "print(len(df))\n",
    "year_data = df.drop_duplicates()\n",
    "print(len(year_data))\n",
    "\n",
    "# Pas de duplicats\n",
    "#Verification des données si null\n",
    "missing_data = year_data.isnull()\n",
    "print(missing_data.sum())"
   ]
  },
  {
   "cell_type": "markdown",
   "id": "aef92e99",
   "metadata": {},
   "source": [
    "What is the time frame of this dataset?\n",
    "Date in nanoseconde precision\n",
    "\n",
    "Le traitement des données de type objet pourrait compromettre les analyses, on doit les convertir en données exploitable"
   ]
  },
  {
   "cell_type": "code",
   "execution_count": null,
   "id": "fadfe1f1",
   "metadata": {},
   "outputs": [],
   "source": [
    "# Ajout de Profit Margin au dataFrame avec verification de Sales != de 0\n",
    "df['Profit Margin'] = np.where(df['Sales'] != 0, (df['Profit'] / df['Sales']) * 100, 0)\n",
    "df['Order Year'] = df['Order Date'].dt.year\n",
    "#En int pour etre exploitable\n",
    "df['Order Month'] = df['Order Date'].dt.month\n",
    "\n",
    "#print(df.head())\n",
    "\n",
    "df_profil_year_month = pd.DataFrame({'Profit Margin': np.where(df['Sales'] != 0, (df['Profit'] / df['Sales']) * 100, 0), \n",
    "                                     'Order Year' : df['Order Date'].dt.year,\n",
    "                                     'Order Month': df['Order Date'].dt.month,\n",
    "                                     'Sales': df['Sales'],\n",
    "                                     'Category': df['Category'],\n",
    "                                     'State': df['State']\n",
    "                                     })\n",
    "\n",
    "print(df_profil_year_month.head())"
   ]
  },
  {
   "cell_type": "code",
   "execution_count": null,
   "id": "a82c72e4",
   "metadata": {},
   "outputs": [],
   "source": [
    "monthly_sales_year = df_profil_year_month.groupby(['Order Year', 'Order Month'])['Sales'].sum().unstack(level=0)\n",
    "\n",
    "plt.figure(figsize=(12, 7))\n",
    "for year in monthly_sales_year.columns:\n",
    "    plt.plot(monthly_sales_year.index, monthly_sales_year[year], marker='o', label=str(year))\n",
    "\n",
    "plt.title('Total Sales by Month and Year')\n",
    "plt.xlabel('Month')\n",
    "plt.ylabel('Total Sales $')\n",
    "plt.xticks(range(1, 13),\n",
    "           ['Jan', 'Feb', 'Mar', 'Apr', 'May', 'Jun', 'Jul', 'Aug', 'Sep', 'Oct', 'Nov', 'Dec'])\n",
    "plt.legend(title='Year')\n",
    "plt.grid(True)\n",
    "plt.show()"
   ]
  },
  {
   "cell_type": "code",
   "execution_count": null,
   "id": "34f0947f",
   "metadata": {},
   "outputs": [],
   "source": [
    "from IPython.display import display\n",
    "\n",
    "# Liste des catégories uniques\n",
    "categories = df_profil_year_month['Category'].unique().tolist()\n",
    "\n",
    "# Dropdown pour sélectionner une catégorie\n",
    "dropdown = widgets.Dropdown(\n",
    "    options=['All'] + categories,\n",
    "    value='All',\n",
    "    description='Category:',\n",
    ")\n",
    "\n",
    "def plot_sales_by_category(selected_category):\n",
    "    plt.figure(figsize=(10,6))\n",
    "    \n",
    "    # Filtrer selon la catégorie sélectionnée\n",
    "    if selected_category == 'All':\n",
    "        data_filtered = df_profil_year_month\n",
    "    else:\n",
    "        data_filtered = df_profil_year_month[df_profil_year_month['Category'] == selected_category]\n",
    "    \n",
    "    # Agréger les ventes par mois\n",
    "    monthly_sales_year = data_filtered.groupby(['Order Year','Order Month'])['Sales'].sum().unstack(level=0)\n",
    "    \n",
    "    for year in monthly_sales_year.columns:\n",
    "        plt.plot(monthly_sales_year.index, monthly_sales_year[year], marker='o', label=str(year))\n",
    "\n",
    "    plt.title('Total Sales by Month and Year')\n",
    "    plt.xlabel('Month')\n",
    "    plt.ylabel('Total Sales $')\n",
    "    plt.xticks(range(1, 13),\n",
    "           ['Jan', 'Feb', 'Mar', 'Apr', 'May', 'Jun', 'Jul', 'Aug', 'Sep', 'Oct', 'Nov', 'Dec'])\n",
    "    plt.legend(title='Year')\n",
    "    plt.grid(True)\n",
    "    plt.show()\n",
    "\n",
    "widgets.interact(plot_sales_by_category, selected_category=dropdown)"
   ]
  },
  {
   "cell_type": "markdown",
   "id": "1faccb31",
   "metadata": {},
   "source": [
    "On remarque qu'il y a une grosse demande en Mars et en fin d'année à partir de Septembre.\n",
    "Après on pourrait noter que le nombre de fourniture augmente avec le temps.\n"
   ]
  },
  {
   "cell_type": "code",
   "execution_count": null,
   "id": "cd3a9187",
   "metadata": {},
   "outputs": [],
   "source": [
    "# Agréger les ventes par État et trier décroissant\n",
    "state_sales = df_profil_year_month.groupby('State')['Sales'].sum().sort_values(ascending=False)\n",
    "\n",
    "# Bar chart\n",
    "plt.figure(figsize=(12, 6))\n",
    "plt.bar(state_sales.index, state_sales.values, color='skyblue')\n",
    "plt.title('Total Sales by State (Sorted)')\n",
    "plt.xlabel('State')\n",
    "plt.ylabel('Total Sales ($)')\n",
    "plt.xticks(rotation=90)\n",
    "plt.grid(axis='y', linestyle='--', alpha=0.7)\n",
    "plt.tight_layout()\n",
    "plt.show()"
   ]
  },
  {
   "cell_type": "code",
   "execution_count": null,
   "id": "f88ae04c",
   "metadata": {},
   "outputs": [],
   "source": [
    "# 1. Agréger les ventes par État\n",
    "state_sales = df_profil_year_month.groupby('State')['Sales'].sum().sort_values(ascending=False)\n",
    "\n",
    "# 2. Fonction d'affichage du bar chart vertical\n",
    "def plot_top_n_states_vertical(top_n):\n",
    "    top_states = state_sales.head(top_n)\n",
    "    \n",
    "    plt.figure(figsize=(12, 6))\n",
    "    plt.bar(top_states.index, top_states.values, color='salmon')\n",
    "    plt.title(f'Top {top_n} States by Total Sales')\n",
    "    plt.xlabel('State')\n",
    "    plt.ylabel('Total Sales ($)')\n",
    "    plt.xticks(rotation=90)\n",
    "    plt.grid(axis='y', linestyle='--', alpha=0.7)\n",
    "    plt.tight_layout()\n",
    "    plt.show()\n",
    "\n",
    "# 3. Slider interactif\n",
    "slider = widgets.IntSlider(\n",
    "    value=10,\n",
    "    min=1,\n",
    "    max=len(state_sales),\n",
    "    step=1,\n",
    "    description='Top N States:',\n",
    "    continuous_update=False\n",
    ")\n",
    "\n",
    "# 4. Lier l’interaction\n",
    "widgets.interact(plot_top_n_states_vertical, top_n=slider)\n"
   ]
  },
  {
   "cell_type": "code",
   "execution_count": null,
   "id": "1e9eddb7",
   "metadata": {},
   "outputs": [],
   "source": []
  }
 ],
 "metadata": {
  "kernelspec": {
   "display_name": "Python 3",
   "language": "python",
   "name": "python3"
  },
  "language_info": {
   "codemirror_mode": {
    "name": "ipython",
    "version": 3
   },
   "file_extension": ".py",
   "mimetype": "text/x-python",
   "name": "python",
   "nbconvert_exporter": "python",
   "pygments_lexer": "ipython3",
   "version": "3.12.10"
  }
 },
 "nbformat": 4,
 "nbformat_minor": 5
}
